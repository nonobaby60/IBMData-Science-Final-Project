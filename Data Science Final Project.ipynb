{
 "cells": [
  {
   "cell_type": "markdown",
   "metadata": {},
   "source": [
    "# Data Science Final Project"
   ]
  },
  {
   "cell_type": "markdown",
   "metadata": {},
   "source": [
    "## Introduction\n",
    "This notebook demonstrates a range of exercises to showcase fundamental skills in Data Science, including listing popular tools and libraries, performing arithmetic operations, and sharing work through GitHub."
   ]
  },
  {
   "cell_type": "markdown",
   "metadata": {},
   "source": [
    "## Data Science Languages\n",
    "- Python\n",
    "- R\n",
    "- SQL\n",
    "- Julia\n",
    "- Scala"
   ]
  },
  {
   "cell_type": "markdown",
   "metadata": {},
   "source": [
    "## Data Science Libraries\n",
    "- Pandas\n",
    "- NumPy\n",
    "- Matplotlib\n",
    "- Scikit-learn\n",
    "- TensorFlow"
   ]
  },
  {
   "cell_type": "markdown",
   "metadata": {},
   "source": [
    "## Data Science Tools\n",
    "| Tool          | Description                          |\n",
    "|---------------|--------------------------------------|\n",
    "| Jupyter       | Interactive notebooks for coding     |\n",
    "| RStudio       | IDE for R programming                |\n",
    "| Apache Spark  | Big data processing                  |\n",
    "| Tableau       | Data visualization                   |\n",
    "| SAS           | Advanced analytics and data management |"
   ]
  },
  {
   "cell_type": "markdown",
   "metadata": {},
   "source": [
    "## Arithmetic Expression Examples\n",
    "This section demonstrates basic arithmetic operations such as addition, multiplication, and division."
   ]
  },
  {
   "cell_type": "code",
   "metadata": {},
   "outputs": [],
   "source": [
    "# Multiplying and adding numbers\n",
    "multiply_result = 7 * 8\n",
    "add_result = 7 + 8\n",
    "multiply_result, add_result"
   ]
  },
  {
   "cell_type": "code",
   "metadata": {},
   "outputs": [],
   "source": [
    "# Convert minutes to hours\n",
    "minutes = 150\n",
    "hours = minutes / 60\n",
    "hours"
   ]
  },
  {
   "cell_type": "markdown",
   "metadata": {},
   "source": [
    "## Objectives\n",
    "- Identify popular programming languages for Data Science\n",
    "- List key Data Science libraries\n",
    "- Demonstrate basic arithmetic operations\n",
    "- Share and collaborate on projects through GitHub"
   ]
  },
  {
   "cell_type": "markdown",
   "metadata": {},
   "source": [
    "## Author\n",
    "Ahmed Ibrahim"
   ]
  },
  {
   "cell_type": "markdown",
   "metadata": {},
   "source": [
    "## Share on GitHub\n",
    "Upload this notebook to GitHub following these steps:\n",
    "\n",
    "1. Go to [GitHub](https://github.com) and sign in.\n",
    "2. Create a new repository (or open an existing one).\n",
    "3. Upload this `.ipynb` file by dragging it into the repository.\n",
    "4. Commit the file to finalize the upload."
   ]
  },
  {
   "cell_type": "markdown",
   "metadata": {},
   "source": [
    "## Screenshot\n",
    "> Take a screenshot of this first page of your notebook, including the title and author section."
   ]
  }
 ],
 "metadata": {
  "kernelspec": {
   "display_name": "Python 3",
   "language": "python",
   "name": "python3"
  },
  "language_info": {
   "codemirror_mode": {
    "name": "ipython",
    "version": 3
   },
   "file_extension": ".py",
   "mimetype": "text/x-python",
   "name": "python",
   "nbconvert_exporter": "python",
   "pygments_lexer": "ipython3",
   "version": "3.8.5"
  }
 },
 "nbformat": 4,
 "nbformat_minor": 4
}
